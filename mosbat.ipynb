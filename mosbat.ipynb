{
 "cells": [
  {
   "cell_type": "code",
   "execution_count": 39,
   "metadata": {},
   "outputs": [
    {
     "name": "stdout",
     "output_type": "stream",
     "text": [
      "Enter a:12\n"
     ]
    }
   ],
   "source": [
    "a=int(input(\"Enter a:\"))"
   ]
  },
  {
   "cell_type": "code",
   "execution_count": 47,
   "metadata": {},
   "outputs": [
    {
     "name": "stdout",
     "output_type": "stream",
     "text": [
      "1 + 2 - 3 + 4 - 5 + 6 - 7 + 8 - 9 + 10 - 11 + 12 = -6\n"
     ]
    }
   ],
   "source": [
    "sum=0\n",
    "sign=1\n",
    "for i in range(1,a+1):\n",
    "    sum=sum+sign*i\n",
    "    sign=-sign\n",
    "    if sign==-1 and i!= a:\n",
    "        print(i,\"+\",end=' ')\n",
    "    elif i!=a:\n",
    "        print(i,\"-\",end=' ')      \n",
    "    else:\n",
    "        print(i,\"=\",end=' ')\n",
    "print(sum)"
   ]
  },
  {
   "cell_type": "code",
   "execution_count": 46,
   "metadata": {},
   "outputs": [
    {
     "name": "stdout",
     "output_type": "stream",
     "text": [
      "1 + 2 - 3 + 4 - 5 + 6 - 7 + 8 - 9 + 10 - 11 + 12 = -6\n"
     ]
    }
   ],
   "source": [
    "sum=0\n",
    "sign=1\n",
    "for i in range(1,a+1):\n",
    "    sum=sum+sign*i\n",
    "    sign=-sign\n",
    "    if sign==-1 and i!=a:\n",
    "        print(i,\"+\",end=' ')\n",
    "    elif sign==1 and i!=a:\n",
    "        print(i,\"-\",end=' ')      \n",
    "    else:\n",
    "        print(i,\"=\",end=' ')\n",
    "print(sum)"
   ]
  },
  {
   "cell_type": "code",
   "execution_count": null,
   "metadata": {},
   "outputs": [],
   "source": []
  }
 ],
 "metadata": {
  "kernelspec": {
   "display_name": "Python 3",
   "language": "python",
   "name": "python3"
  },
  "language_info": {
   "codemirror_mode": {
    "name": "ipython",
    "version": 3
   },
   "file_extension": ".py",
   "mimetype": "text/x-python",
   "name": "python",
   "nbconvert_exporter": "python",
   "pygments_lexer": "ipython3",
   "version": "3.6.13"
  }
 },
 "nbformat": 4,
 "nbformat_minor": 2
}
